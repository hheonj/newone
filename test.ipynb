{
 "cells": [
  {
   "cell_type": "markdown",
   "metadata": {},
   "source": [
    "테스트1"
   ]
  },
  {
   "cell_type": "markdown",
   "metadata": {},
   "source": [
    "notthing"
   ]
  },
  {
   "cell_type": "markdown",
   "metadata": {},
   "source": [
    "good"
   ]
  },
  {
   "cell_type": "markdown",
   "metadata": {},
   "source": []
  }
 ],
 "metadata": {
  "kernelspec": {
   "display_name": "Python 3.7.13 ('test')",
   "language": "python",
   "name": "python3"
  },
  "language_info": {
   "name": "python",
   "version": "3.7.13"
  },
  "orig_nbformat": 4,
  "vscode": {
   "interpreter": {
    "hash": "7eceab157f6f1ea9731907ace9455d7a2d0bd8493a005e2cdfa9e2357745d258"
   }
  }
 },
 "nbformat": 4,
 "nbformat_minor": 2
}
